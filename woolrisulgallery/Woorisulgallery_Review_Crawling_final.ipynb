{
 "cells": [
  {
   "cell_type": "code",
   "execution_count": 1,
   "id": "3e1e576b",
   "metadata": {},
   "outputs": [],
   "source": [
    "from selenium import webdriver\n",
    "from selenium.webdriver.common.keys import Keys\n",
    "from selenium.webdriver.chrome.service import Service\n",
    "from webdriver_manager.chrome import ChromeDriverManager\n",
    "from selenium.webdriver.common.by import By\n",
    "from selenium.webdriver.support import expected_conditions as EC\n",
    "from selenium.webdriver.support.ui import WebDriverWait as wait\n",
    "from bs4 import BeautifulSoup\n",
    "from tqdm.notebook import tqdm\n",
    "\n",
    "import numpy as np\n",
    "import pandas as pd\n",
    "import re\n",
    "import sys\n",
    "import time\n",
    "import requests\n",
    "import math"
   ]
  },
  {
   "cell_type": "code",
   "execution_count": 2,
   "id": "77acfefa",
   "metadata": {},
   "outputs": [],
   "source": [
    "# webdriver 자동설정\n",
    "def set_chrome_driver():\n",
    "    chrome_options = webdriver.ChromeOptions()\n",
    "    driver = webdriver.Chrome(service=Service(ChromeDriverManager().install()), options=chrome_options)\n",
    "    return driver"
   ]
  },
  {
   "cell_type": "code",
   "execution_count": 3,
   "id": "5453aca1",
   "metadata": {},
   "outputs": [],
   "source": [
    "# 리스트를 문자열로 변환하는 함수 (데이터프레임 만들고 나서 사용할 예정)\n",
    "def list_changer(list):\n",
    "    st = ''\n",
    "    for word in list:\n",
    "        st = st + word + ','\n",
    "    return st"
   ]
  },
  {
   "cell_type": "code",
   "execution_count": 8,
   "id": "fbb5718c",
   "metadata": {},
   "outputs": [
    {
     "name": "stdout",
     "output_type": "stream",
     "text": [
      "1page crwaling\n",
      "2page crwaling\n",
      "3page crwaling\n",
      "4page crwaling\n",
      "5page crwaling\n"
     ]
    }
   ],
   "source": [
    "# 제품별 정보/평점/리뷰 크롤링을 위한, url 패턴 product number 리스트 만들기\n",
    "\n",
    "list_prod_num = []    # -> 제품별 정보 크롤링 페이지에서 url 패턴에 사용\n",
    "for page in range(1, 6): #80개기준 5페이지\n",
    "    url =f'https://smartstore.naver.com/woorisulgallery/category/2a59932df99946be91f799d367bf2f64?st=RECENT&free=false&dt=LIST&subscr=false&page={page}&size=80'\n",
    "    header = {\n",
    "         # referer 유저가 이전에 있던 위치\n",
    "        'referer': 'https://smartstore.naver.com/woorisulgallery/products/7465928721',\n",
    "        # 내 노트북 정보. Network > Headers의 user_agent 복사\n",
    "        'user_agent' : 'Mozilla/5.0 (Linux; Android 6.0; Nexus 5 Build/MRA58N) AppleWebKit/537.36 (KHTML, like Gecko) Chrome/107.0.0.0 Mobile Safari/537.36',\n",
    "    }\n",
    "    resp = requests.get(url, headers = header)\n",
    "    html = BeautifulSoup(resp.text,'html.parser')\n",
    "    print(f'{page}page crwaling')\n",
    "    \n",
    "    for item in (html.select('a._1vVKEk_wsi')):\n",
    "        list_prod_num.append(item['href'][26:])    #url에서 제품별 고유번호 뽑아내고 이거 리스트에 넣어서 패턴에 돌리도록.\n",
    "\n",
    "    #차단 막는 코드. 랜덤으로 시간차 준다.\n",
    "    seed = np.random.randint(100)\n",
    "    np.random.seed(seed)  \n",
    "    a = np.random.randint(5)\n",
    "    time.sleep(a)"
   ]
  },
  {
   "cell_type": "code",
   "execution_count": 9,
   "id": "55e60818",
   "metadata": {
    "scrolled": true
   },
   "outputs": [
    {
     "data": {
      "text/plain": [
       "379"
      ]
     },
     "execution_count": 9,
     "metadata": {},
     "output_type": "execute_result"
    }
   ],
   "source": [
    "len(list_prod_num)    #총 제품개수 확인"
   ]
  },
  {
   "cell_type": "markdown",
   "id": "5ad01217",
   "metadata": {},
   "source": [
    "# 제품 별 정보, 평점, 리뷰 크롤링"
   ]
  },
  {
   "cell_type": "code",
   "execution_count": 13,
   "id": "62d5daf7",
   "metadata": {},
   "outputs": [
    {
     "data": {
      "application/vnd.jupyter.widget-view+json": {
       "model_id": "0119290d91144abaaed516d85eecba68",
       "version_major": 2,
       "version_minor": 0
      },
      "text/plain": [
       "  0%|          | 0/379 [00:00<?, ?it/s]"
      ]
     },
     "metadata": {},
     "output_type": "display_data"
    },
    {
     "name": "stdout",
     "output_type": "stream",
     "text": [
      "product 4775093943 error. 다음 제품으로 넘어가요\n",
      "product 4771529448 error. 다음 제품으로 넘어가요\n"
     ]
    },
    {
     "name": "stderr",
     "output_type": "stream",
     "text": [
      "C:\\Users\\X1Carbon\\AppData\\Local\\Temp\\ipykernel_5248\\3750459800.py:60: VisibleDeprecationWarning: Creating an ndarray from ragged nested sequences (which is a list-or-tuple of lists-or-tuples-or ndarrays with different lengths or shapes) is deprecated. If you meant to do this, you must specify 'dtype=object' when creating the ndarray.\n",
      "  df_prod_info = pd.DataFrame(data = np.array(prod_info_list).reshape(-1,5),\n"
     ]
    },
    {
     "name": "stdout",
     "output_type": "stream",
     "text": [
      "DONE\n"
     ]
    }
   ],
   "source": [
    "#크롬 창 열기\n",
    "driver = set_chrome_driver()\n",
    "\n",
    "prod_info_list = []\n",
    "review_list = []\n",
    "\n",
    "for num in tqdm((list_prod_num)):\n",
    "    try:\n",
    "        url = f'https://smartstore.naver.com/woorisulgallery/products/{num}'\n",
    "        driver.get(url)\n",
    "        time.sleep(5)\n",
    "\n",
    "        # 제품 정보 뽑아내기\n",
    "        html = driver.page_source    # page source 얻고\n",
    "        soup = BeautifulSoup(html, \"html.parser\")\n",
    "\n",
    "        prod_info_list.append(soup.find_all('td',class_='ABROiEshTD')[4].text)    # product_name\n",
    "        prod_info_list.append(soup.find_all('td',class_='ABROiEshTD')[6].text)   # alcholicity(%)\n",
    "        prod_info_list.append(soup.find_all('td',class_='ABROiEshTD')[8].text)    # capacity(ml)\n",
    "        prod_info_list.append(int(soup.find('span',class_='_1LY7DqCnwR').text.replace(',','')))    # price\n",
    "  \n",
    "        related_tag = soup.find_all('ul',class_='_3Vox1DKZiA')[0].text    # 관련태그들(keywords)\n",
    "        prod_info_list.append(re.split('#',related_tag[1:]))\n",
    "       \n",
    "        # 리뷰 크롤링 시작 (리뷰가 있는 경우만)\n",
    "        if int(soup.select('strong._2pgHN-ntx6')[0].text)<1:    # 리뷰 1개 이하이면 pass\n",
    "            pass\n",
    "\n",
    "        else:\n",
    "            # 맨처음 리뷰 1페이지 누르고\n",
    "            wait(driver, 20).until(EC.element_to_be_clickable((By.CSS_SELECTOR, '#REVIEW > div > div._180GG7_7yx > div.cv6id6JEkg > div > div > a:nth-child(2)'))).click()\n",
    "            count = 1\n",
    "            stop = math.ceil(int(soup.select('strong._2pgHN-ntx6')[0].text) / 20)  # 전체 리뷰 수 / 한 페이지 리뷰수 20개 \n",
    "\n",
    "            while count < stop+1:\n",
    "                html_review = driver.page_source\n",
    "                soup_review = BeautifulSoup(html_review, \"html.parser\")\n",
    "                review_page = soup_review.find_all('div',class_='_1YShY6EQ56')\n",
    "\n",
    "                # 해당 페이지의 리뷰 수(len) 만큼 반복\n",
    "                for index in range(len(review_page)):\n",
    "                    review_list.append(soup.find_all('td',class_='ABROiEshTD')[4].text)    #product_name 먼저 담고\n",
    "                    whole = soup.find_all('div',class_='_1YShY6EQ56')[index].text\n",
    "                    review = re.split('\\d\\d.\\d\\d.\\d\\d.신고', whole)    # 날짜.신고 기준으로 나눔\n",
    "                    review_list.append(review[0][2:3])    # 평점\n",
    "                    review_list.append(review[0][3:])    # 작성자 ID\n",
    "                    review_list.append(re.sub('\\n', \" \", review[1]))    # 리뷰글 (엔터 \\n 띄어쓰기로 변환)\n",
    "\n",
    "                # 마지막페이지가 아닐 경우 다음페이지 누르기\n",
    "                if count == stop:\n",
    "                    break\n",
    "                else:\n",
    "                    wait(driver, 20).until(EC.element_to_be_clickable((By.CSS_SELECTOR, '#REVIEW > div > div._180GG7_7yx > div.cv6id6JEkg > div > div > a.fAUKm1ewwo._2Ar8-aEUTq'))).click()\n",
    "                    time.sleep(2)\n",
    "                    count = count + 1\n",
    "    except:\n",
    "        print(f'product {num} error. 다음 제품으로 넘어가요')\n",
    "\n",
    "# 제품정보list dataframe에 담기\n",
    "df_prod_info = pd.DataFrame(data = np.array(prod_info_list).reshape(-1,5),\n",
    "                            columns = ['produc_name', 'alcholicity', 'capacity', 'price', 'keywords'])\n",
    "# keywords 컬럼에 들어간 리스트 껍데기 벗겨내기\n",
    "df_prod_info['keywords'] = df_prod_info['keywords'].apply(lambda x : list_changer(x))\n",
    "            \n",
    "# 리뷰list dataframe에 담기\n",
    "df_review = pd.DataFrame(data = np.array(review_list).reshape(-1,4),\n",
    "                         columns = ['product_name', 'score', 'customerID', 'comments'])\n",
    "print('DONE')\n",
    "\n",
    "# csv로 저장\n",
    "df_prod_info.to_csv(\"woorisool_product_list.csv\")\n",
    "df_review.to_csv(\"woorisool_review.csv\")"
   ]
  }
 ],
 "metadata": {
  "kernelspec": {
   "display_name": "Python 3 (ipykernel)",
   "language": "python",
   "name": "python3"
  },
  "language_info": {
   "codemirror_mode": {
    "name": "ipython",
    "version": 3
   },
   "file_extension": ".py",
   "mimetype": "text/x-python",
   "name": "python",
   "nbconvert_exporter": "python",
   "pygments_lexer": "ipython3",
   "version": "3.9.12"
  },
  "toc": {
   "base_numbering": 1,
   "nav_menu": {},
   "number_sections": true,
   "sideBar": true,
   "skip_h1_title": false,
   "title_cell": "Table of Contents",
   "title_sidebar": "Contents",
   "toc_cell": false,
   "toc_position": {},
   "toc_section_display": true,
   "toc_window_display": false
  },
  "varInspector": {
   "cols": {
    "lenName": 16,
    "lenType": 16,
    "lenVar": 40
   },
   "kernels_config": {
    "python": {
     "delete_cmd_postfix": "",
     "delete_cmd_prefix": "del ",
     "library": "var_list.py",
     "varRefreshCmd": "print(var_dic_list())"
    },
    "r": {
     "delete_cmd_postfix": ") ",
     "delete_cmd_prefix": "rm(",
     "library": "var_list.r",
     "varRefreshCmd": "cat(var_dic_list()) "
    }
   },
   "types_to_exclude": [
    "module",
    "function",
    "builtin_function_or_method",
    "instance",
    "_Feature"
   ],
   "window_display": false
  }
 },
 "nbformat": 4,
 "nbformat_minor": 5
}
