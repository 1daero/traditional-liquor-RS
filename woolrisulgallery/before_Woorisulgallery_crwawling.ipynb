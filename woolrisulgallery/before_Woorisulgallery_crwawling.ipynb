{
 "cells": [
  {
   "cell_type": "code",
   "execution_count": 75,
   "id": "3e1e576b",
   "metadata": {},
   "outputs": [],
   "source": [
    "from bs4 import BeautifulSoup\n",
    "import time\n",
    "import requests\n",
    "import numpy as np\n",
    "import pandas as pd"
   ]
  },
  {
   "cell_type": "markdown",
   "id": "d691bd64",
   "metadata": {},
   "source": [
    "# 제품별 정보/평점/리뷰 크롤링을 위한, url 패턴 product number 크롤링"
   ]
  },
  {
   "cell_type": "code",
   "execution_count": 76,
   "id": "5d810a77",
   "metadata": {},
   "outputs": [
    {
     "name": "stdout",
     "output_type": "stream",
     "text": [
      "1page crwaling\n",
      "2page crwaling\n",
      "3page crwaling\n",
      "4page crwaling\n",
      "5page crwaling\n"
     ]
    }
   ],
   "source": [
    "list_prod_num = []    # -> 제품별 정보 크롤링 페이지에서 url 패턴에 사용\n",
    "for page in range(1, 6): #80개기준 5페이지\n",
    "    url =f'https://smartstore.naver.com/woorisulgallery/category/2a59932df99946be91f799d367bf2f64?st=RECENT&free=false&dt=LIST&subscr=false&page={page}&size=80'\n",
    "    header = {\n",
    "         # referer 유저가 이전에 있던 위치\n",
    "        'referer': 'https://smartstore.naver.com/woorisulgallery/products/7465928721',\n",
    "        # 내 노트북 정보. Network > Headers의 user_agent 복사\n",
    "        'user_agent' : 'Mozilla/5.0 (Windows NT 10.0; Win64; x64) AppleWebKit/537.36 (KHTML, like Gecko) Chrome/107.0.0.0 Safari/537.36'\n",
    "    }\n",
    "    resp = requests.get(url, headers = header)\n",
    "    html = BeautifulSoup(resp.text,'html.parser')\n",
    "    print(f'{page}page crwaling')\n",
    "    \n",
    "    for item in (html.select('a._1vVKEk_wsi')):\n",
    "        list_prod_num.append(item['href'][26:])    #url에서 제품별 고유번호 뽑아내고 이거 리스트에 넣어서 패턴에 돌리도록.\n",
    "\n",
    "    #차단 막는 코드. 랜덤으로 시간차 준다.\n",
    "    seed = np.random.randint(100)\n",
    "    np.random.seed(seed)  \n",
    "    a = np.random.randint(5)\n",
    "    time.sleep(a)"
   ]
  },
  {
   "cell_type": "code",
   "execution_count": 77,
   "id": "babd28a1",
   "metadata": {},
   "outputs": [
    {
     "data": {
      "text/plain": [
       "380"
      ]
     },
     "execution_count": 77,
     "metadata": {},
     "output_type": "execute_result"
    }
   ],
   "source": [
    "len(list_prod_num)    # 전체상품 총 380개"
   ]
  },
  {
   "cell_type": "markdown",
   "id": "293f439a",
   "metadata": {},
   "source": [
    "# 이후 제품별 페이지 들어가서 리뷰가 있는 경우만 크롤링하는 부분"
   ]
  },
  {
   "cell_type": "code",
   "execution_count": null,
   "id": "bdf9ba0f",
   "metadata": {},
   "outputs": [],
   "source": [
    "# 제품별 페이지 들어와서 리뷰가 있을 경우만 크롤링.  \n",
    "if html.select('strong._2pgHN-ntx6')[0].text < 1 :    # 리뷰 1개 이하이면 pass\n",
    "    pass\n",
    "else :\n",
    "    크롤링 시작."
   ]
  },
  {
   "cell_type": "code",
   "execution_count": null,
   "id": "fc7daf4b",
   "metadata": {},
   "outputs": [],
   "source": []
  }
 ],
 "metadata": {
  "kernelspec": {
   "display_name": "Python 3 (ipykernel)",
   "language": "python",
   "name": "python3"
  },
  "language_info": {
   "codemirror_mode": {
    "name": "ipython",
    "version": 3
   },
   "file_extension": ".py",
   "mimetype": "text/x-python",
   "name": "python",
   "nbconvert_exporter": "python",
   "pygments_lexer": "ipython3",
   "version": "3.9.12"
  },
  "toc": {
   "base_numbering": 1,
   "nav_menu": {},
   "number_sections": true,
   "sideBar": true,
   "skip_h1_title": false,
   "title_cell": "Table of Contents",
   "title_sidebar": "Contents",
   "toc_cell": false,
   "toc_position": {},
   "toc_section_display": true,
   "toc_window_display": false
  },
  "varInspector": {
   "cols": {
    "lenName": 16,
    "lenType": 16,
    "lenVar": 40
   },
   "kernels_config": {
    "python": {
     "delete_cmd_postfix": "",
     "delete_cmd_prefix": "del ",
     "library": "var_list.py",
     "varRefreshCmd": "print(var_dic_list())"
    },
    "r": {
     "delete_cmd_postfix": ") ",
     "delete_cmd_prefix": "rm(",
     "library": "var_list.r",
     "varRefreshCmd": "cat(var_dic_list()) "
    }
   },
   "types_to_exclude": [
    "module",
    "function",
    "builtin_function_or_method",
    "instance",
    "_Feature"
   ],
   "window_display": false
  }
 },
 "nbformat": 4,
 "nbformat_minor": 5
}
