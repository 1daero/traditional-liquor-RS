{
 "cells": [
  {
   "cell_type": "code",
   "execution_count": 32,
   "id": "200bfc39",
   "metadata": {},
   "outputs": [],
   "source": [
    "import time\n",
    "import requests\n",
    "from bs4 import BeautifulSoup\n",
    "import numpy as np\n",
    "import pandas as pd\n",
    "import urllib\n",
    "import re"
   ]
  },
  {
   "cell_type": "markdown",
   "id": "0d3b90cd",
   "metadata": {},
   "source": [
    "# 제품별 맛그래프 이미지 크롤링을 위한 url 패턴 docID와 제품명 크롤링"
   ]
  },
  {
   "cell_type": "code",
   "execution_count": 26,
   "id": "0f2ed2da",
   "metadata": {},
   "outputs": [
    {
     "name": "stdout",
     "output_type": "stream",
     "text": [
      "1page crwaling\n",
      "2page crwaling\n",
      "3page crwaling\n",
      "4page crwaling\n",
      "5page crwaling\n",
      "6page crwaling\n",
      "7page crwaling\n",
      "8page crwaling\n",
      "9page crwaling\n",
      "10page crwaling\n",
      "11page crwaling\n",
      "12page crwaling\n",
      "13page crwaling\n",
      "14page crwaling\n",
      "15page crwaling\n",
      "16page crwaling\n",
      "17page crwaling\n",
      "18page crwaling\n",
      "19page crwaling\n",
      "20page crwaling\n",
      "21page crwaling\n",
      "22page crwaling\n",
      "23page crwaling\n",
      "24page crwaling\n",
      "25page crwaling\n",
      "26page crwaling\n",
      "27page crwaling\n",
      "28page crwaling\n",
      "29page crwaling\n",
      "30page crwaling\n",
      "31page crwaling\n",
      "32page crwaling\n",
      "33page crwaling\n",
      "34page crwaling\n",
      "35page crwaling\n",
      "36page crwaling\n",
      "37page 완료\n"
     ]
    }
   ],
   "source": [
    "list_prod_docID = []    # -> 제품별 맛그래프 이미지 크롤링 때 url 패턴에 사용\n",
    "list_prod_name = []\n",
    "for page in range(1,37):\n",
    "    url = f'https://terms.naver.com/list.naver?cid=42726&categoryId=58635&so=date.dsc&viewType=&categoryType=&page={page}' \n",
    "    resp = requests.get(url)\n",
    "    html = BeautifulSoup(resp.text,'html.parser')\n",
    "    \n",
    "    #차단 막는 코드. 랜덤으로 시간차 준다.\n",
    "    seed = np.random.randint(100)\n",
    "    np.random.seed(seed)  \n",
    "    a = np.random.randint(5)\n",
    "    time.sleep(a)\n",
    "    \n",
    "    for index in range(1, 30, 2):\n",
    "        list_prod_docID.append(html.select('strong>a')[index]['href'][19:26])    # 제품별 docID (url)\n",
    "        list_prod_name.append(html.select('strong>a')[index].text)    # 제품명-설명\n",
    "        # 제품명-설명.split('-') 했을 때 설명부분 없는항목이 있어서 그냥 통으로 append\n",
    "    \n",
    "    print(f'{page}page crwaling')\n",
    "\n",
    "# 마지막 37페이지 제품개수 적어서 [index] out of range 라서 따로 함\n",
    "url = 'https://terms.naver.com/list.naver?cid=42726&categoryId=58635&so=date.dsc&viewType=&categoryType=&page=37' \n",
    "resp = requests.get(url)\n",
    "html = BeautifulSoup(resp.text,'html.parser')\n",
    "for index in range(1, 16, 2):\n",
    "    list_prod_docID.append(html.select('strong>a')[index]['href'][19:26])\n",
    "    list_prod_name.append(html.select('strong>a')[index].text)\n",
    "print('37page 완료')\n",
    "\n",
    "# dataframe에 담아 csv로 저장\n",
    "df_list_prod_name = pd.DataFrame(data = np.array(list_prod_name, dtype = object), columns = ['제품명-설명'])\n",
    "df_list_prod_name.to_csv(\"naver_prod_list.csv\")"
   ]
  },
  {
   "cell_type": "markdown",
   "id": "63db739b",
   "metadata": {},
   "source": [
    "# 제품별 맛그래프 이미지 다운로드"
   ]
  },
  {
   "cell_type": "code",
   "execution_count": null,
   "id": "381c58a5",
   "metadata": {},
   "outputs": [],
   "source": [
    "for num in (list_prod_docID):    # 위에서 만들어둔 것\n",
    "    url = f'https://terms.naver.com/entry.naver?docId={num}&cid=42726&categoryId=58635'\n",
    "    print(f'url id {num} crawling')\n",
    "\n",
    "    resp = requests.get(url)\n",
    "    html = BeautifulSoup(resp.text,'html.parser')\n",
    "\n",
    "    #차단 막는 코드. 랜덤으로 시간차 준다.\n",
    "    seed = np.random.randint(100)\n",
    "    np.random.seed(seed)  \n",
    "    a = np.random.randint(5)\n",
    "    time.sleep(a)\n",
    "\n",
    "    # 이미지 url 따온 뒤 저장. img_save 라는 폴더를 미리 만들어 뒀음!\n",
    "    for item in (html.select('img')):\n",
    "        item2 = str(item)    # 이미지 태그에 class명 없으므로, alt = '제품명_그래프이미지(맛그래프)' 인 것 골라내기 위해 우선 문자열로 전환\n",
    "        \n",
    "        if ('그래프이미지' in item2):\n",
    "            name = re.sub('[^A-Za-z0-9가-힣]', '', item2)[6:30]    # 저장 파일명에 alt의 제품명을 살리기 위해 특문 제거 후 제품명 시작부분부터 30글자만 \n",
    "            urllib.request.urlretrieve(item.attrs['src'], f'.\\img_save\\_{name}.png')\n",
    "        elif ('맛그래프' in item2):\n",
    "            name = re.sub('[^A-Za-z0-9가-힣]', '', item2)[6:30]    \n",
    "            urllib.request.urlretrieve(item.attrs['src'], f'.\\img_save\\_{name}.png')    # ulrretrieve(저장할이미지url, 경로(이름))\n",
    "          \n",
    "        else:\n",
    "            pass"
   ]
  }
 ],
 "metadata": {
  "kernelspec": {
   "display_name": "Python 3 (ipykernel)",
   "language": "python",
   "name": "python3"
  },
  "language_info": {
   "codemirror_mode": {
    "name": "ipython",
    "version": 3
   },
   "file_extension": ".py",
   "mimetype": "text/x-python",
   "name": "python",
   "nbconvert_exporter": "python",
   "pygments_lexer": "ipython3",
   "version": "3.9.12"
  },
  "toc": {
   "base_numbering": 1,
   "nav_menu": {},
   "number_sections": true,
   "sideBar": true,
   "skip_h1_title": false,
   "title_cell": "Table of Contents",
   "title_sidebar": "Contents",
   "toc_cell": false,
   "toc_position": {},
   "toc_section_display": true,
   "toc_window_display": false
  },
  "varInspector": {
   "cols": {
    "lenName": 16,
    "lenType": 16,
    "lenVar": 40
   },
   "kernels_config": {
    "python": {
     "delete_cmd_postfix": "",
     "delete_cmd_prefix": "del ",
     "library": "var_list.py",
     "varRefreshCmd": "print(var_dic_list())"
    },
    "r": {
     "delete_cmd_postfix": ") ",
     "delete_cmd_prefix": "rm(",
     "library": "var_list.r",
     "varRefreshCmd": "cat(var_dic_list()) "
    }
   },
   "types_to_exclude": [
    "module",
    "function",
    "builtin_function_or_method",
    "instance",
    "_Feature"
   ],
   "window_display": false
  }
 },
 "nbformat": 4,
 "nbformat_minor": 5
}
